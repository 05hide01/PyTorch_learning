{
 "cells": [
  {
   "cell_type": "code",
   "execution_count": 2,
   "metadata": {},
   "outputs": [
    {
     "name": "stdout",
     "output_type": "stream",
     "text": [
      "<class 'list'>\n",
      "<class 'numpy.ndarray'>\n",
      "<class 'torch.Tensor'>\n"
     ]
    }
   ],
   "source": [
    "%matplotlib inline\n",
    "import torch\n",
    "import numpy as np\n",
    "#listから直接テンソルに変換\n",
    "# その際、データ型は自動的に推測されます。\n",
    "data = [[1,2],[3,4]]\n",
    "print(type(data))\n",
    "x_data = torch.tensor(data)\n",
    "# テンソルとNumpy arraysは相互に変換可能\n",
    "np_array = np.array(data)\n",
    "print(type(np_array))\n",
    "x_np=torch.from_numpy(np_array)\n",
    "print(type(x_np))"
   ]
  },
  {
   "cell_type": "code",
   "execution_count": 3,
   "metadata": {},
   "outputs": [
    {
     "name": "stdout",
     "output_type": "stream",
     "text": [
      "x_ones: \n",
      " tensor([[1, 1],\n",
      "        [1, 1]]) \n",
      "\n",
      "x_rand:\n",
      " tensor([[0.6727, 0.3716],\n",
      "        [0.2692, 0.0618]])\n",
      "\n"
     ]
    }
   ],
   "source": [
    "# 他のテンソルから新しいテンソルを作成する場合、明示的に上書きされない限り、\n",
    "# 引数のテンソルのプロパティ（形状、データ型）を保持します。\n",
    "x_ones=torch.ones_like(x_data)\n",
    "print(f'x_ones: \\n {x_ones} \\n')\n",
    "x_rand=torch.rand_like(x_data, dtype=torch.float)\n",
    "print(f'x_rand:\\n {x_rand}\\n')"
   ]
  },
  {
   "cell_type": "code",
   "execution_count": 4,
   "metadata": {},
   "outputs": [
    {
     "name": "stdout",
     "output_type": "stream",
     "text": [
      "tensor:tensor([[0.0490, 0.4111, 0.8132, 0.4648],\n",
      "        [0.6046, 0.5555, 0.4853, 0.1878],\n",
      "        [0.0838, 0.9029, 0.6384, 0.7087]])\n",
      "Shape of tensor: torch.Size([3, 4])\n",
      "datatype of tensor:torch.float32\n",
      "Device tensor is stored on: cpu\n"
     ]
    }
   ],
   "source": [
    "# テンソルは属性変数として、その形状、データの型、保存されているデバイスを保持\n",
    "tensor=torch.rand(3,4)\n",
    "print(f'tensor:{tensor}')\n",
    "print(f\"Shape of tensor: {tensor.shape}\")\n",
    "print(f\"datatype of tensor:{tensor.dtype}\")\n",
    "print(f\"Device tensor is stored on: {tensor.device}\")"
   ]
  },
  {
   "cell_type": "code",
   "execution_count": 8,
   "metadata": {},
   "outputs": [
    {
     "name": "stdout",
     "output_type": "stream",
     "text": [
      "tensor([[0.0000, 0.0000, 0.0000, 0.0000],\n",
      "        [0.6046, 0.5555, 0.4853, 0.1878],\n",
      "        [0.0838, 0.9029, 0.6384, 0.7087]])\n",
      "first_row:tensor([0., 0., 0., 0.])\n",
      "last_colum:tensor([0.0000, 0.1878, 0.7087])\n"
     ]
    }
   ],
   "source": [
    "# PyTorchでは、算術、線形代数、行列操作（転置、インデックス、スライス）など、100種類以上のテンソル演算が可能\n",
    "# 各操作はGPU上で実行可能,一般的にCPUの場合より高速\n",
    "# GPUが使用可能であれば、GPU上にテンソルを移動させる\n",
    "if torch.cuda.is_available():\n",
    "    tensor=tensor.to('cuda')\n",
    "\n",
    "# numpyに似たpytorch操作\n",
    "tensor[:1]=0\n",
    "print(tensor)\n",
    "print(f'first_row:{tensor[0,:]}')\n",
    "print(f'last_colum:{tensor[:,-1]}')"
   ]
  },
  {
   "cell_type": "code",
   "execution_count": 29,
   "metadata": {},
   "outputs": [
    {
     "name": "stdout",
     "output_type": "stream",
     "text": [
      "tensor([[4, 5, 5],\n",
      "        [1, 1, 7]])\n",
      "tensor([[4, 5, 5],\n",
      "        [1, 1, 7],\n",
      "        [4, 5, 5],\n",
      "        [1, 1, 7],\n",
      "        [4, 5, 5],\n",
      "        [1, 1, 7]])\n",
      "tensor([[4, 5, 5, 4, 5, 5, 4, 5, 5],\n",
      "        [1, 1, 7, 1, 1, 7, 1, 1, 7]])\n",
      "tensor([[[4, 5, 5],\n",
      "         [1, 1, 7]],\n",
      "\n",
      "        [[4, 5, 5],\n",
      "         [1, 1, 7]]])\n",
      "tensor([[[4, 5, 5],\n",
      "         [4, 5, 5]],\n",
      "\n",
      "        [[1, 1, 7],\n",
      "         [1, 1, 7]]])\n",
      "tensor([[[4, 4],\n",
      "         [5, 5],\n",
      "         [5, 5]],\n",
      "\n",
      "        [[1, 1],\n",
      "         [1, 1],\n",
      "         [7, 7]]])\n"
     ]
    }
   ],
   "source": [
    "# torch.catを使用することで、テンソルを特定の次元に沿って結合\n",
    "tensor=torch.randint(1,10,(2,3))\n",
    "print(tensor)\n",
    "t0=torch.cat([tensor,tensor,tensor],dim=0)\n",
    "t1=torch.cat([tensor,tensor,tensor],dim=1)\n",
    "print(t0)\n",
    "print(t1)\n",
    "s0=torch.stack((tensor,tensor))#same as torch.stack((tensor,tensor),dim=0)\n",
    "s1=torch.stack((tensor,tensor),dim=1)\n",
    "s2=torch.stack((tensor,tensor),dim=2)\n",
    "print(s0)\n",
    "print(s1)\n",
    "print(s2)\n"
   ]
  },
  {
   "cell_type": "code",
   "execution_count": 42,
   "metadata": {},
   "outputs": [
    {
     "name": "stdout",
     "output_type": "stream",
     "text": [
      "tensor([[0.9771, 0.7950, 0.6456],\n",
      "        [0.3521, 0.6728, 0.4826]])\n",
      "y3:tensor([[0.0601, 0.1644, 0.6640],\n",
      "        [0.0345, 0.4455, 0.0173]])\n",
      "y3:tensor([[2.0035, 1.1904],\n",
      "        [1.1904, 0.8095]])\n",
      "y3:tensor([[2.0035, 1.1904],\n",
      "        [1.8609, 0.6792]])\n",
      "tensor([[2.0035, 1.1904],\n",
      "        [1.1904, 0.8095]])\n",
      "tensor([[2.0035, 1.1904],\n",
      "        [1.1904, 0.8095]])\n"
     ]
    },
    {
     "name": "stderr",
     "output_type": "stream",
     "text": [
      "/tmp/ipykernel_26130/1183576868.py:8: UserWarning: An output with one or more elements was resized since it had shape [2, 3], which does not match the required output shape [2, 2]. This behavior is deprecated, and in a future PyTorch release outputs will not be resized unless they have zero elements. You can explicitly reuse an out tensor t by resizing it, inplace, to zero elements with t.resize_(0). (Triggered internally at /opt/conda/conda-bld/pytorch_1724788960438/work/aten/src/ATen/native/Resize.cpp:28.)\n",
      "  torch.matmul(tensor,tensor.T,out=y3)\n",
      "/tmp/ipykernel_26130/1183576868.py:11: UserWarning: An output with one or more elements was resized since it had shape [2, 3], which does not match the required output shape [2, 2]. This behavior is deprecated, and in a future PyTorch release outputs will not be resized unless they have zero elements. You can explicitly reuse an out tensor t by resizing it, inplace, to zero elements with t.resize_(0). (Triggered internally at /opt/conda/conda-bld/pytorch_1724788960438/work/aten/src/ATen/native/Resize.cpp:28.)\n",
      "  torch.matmul(tensor, tensor.T, out=y3)\n"
     ]
    }
   ],
   "source": [
    "tensor=torch.rand(2,3)\n",
    "print(tensor)\n",
    "# 2つのテンソル行列のかけ算です。 y1, y2, y3 は同じ結果\n",
    "y1=tensor @ tensor.T\n",
    "y2=tensor.matmul(tensor.T)\n",
    "y3=torch.rand_like(tensor)\n",
    "print(f'y3:{y3}')\n",
    "torch.matmul(tensor,tensor.T,out=y3)\n",
    "print(f'y3:{y3}')\n",
    "y3 = tensor\n",
    "torch.matmul(tensor, tensor.T, out=y3)\n",
    "print(f'y3:{y3}')\n",
    "print(y1)\n",
    "print(y2)\n"
   ]
  },
  {
   "cell_type": "markdown",
   "metadata": {},
   "source": [
    "\n",
    "### 1. `torch.matmul(tensor, tensor.T, out=y3)` が最初に実行されたとき\n",
    "```python\n",
    "torch.matmul(tensor, tensor.T, out=y3)\n",
    "```\n",
    "ここで `tensor` と `tensor.T` の行列積が計算され、その結果は最初の `y3`（この場合、`tensor` とは異なる新しいテンソル）に保存されました。この時点では、`tensor` 自体には何の変更も加えられていません。\n",
    "\n",
    "出力例：\n",
    "```\n",
    "y3: tensor([[2.0035, 1.1904],\n",
    "            [1.1904, 0.8095]])\n",
    "```\n",
    "\n",
    "### 2. `y3 = tensor` で `y3` に `tensor` を代入\n",
    "```python\n",
    "y3 = tensor\n",
    "```\n",
    "この操作により、`y3` は `tensor` と同じオブジェクトを参照するようになりました。つまり、`y3` と `tensor` は同一のメモリ位置を共有し、どちらかに変更を加えると、もう一方にも影響を与えます。\n",
    "\n",
    "### 3. 再度 `torch.matmul(tensor, tensor.T, out=y3)` を実行\n",
    "```python\n",
    "torch.matmul(tensor, tensor.T, out=y3)\n",
    "```\n",
    "ここで問題が発生します。`y3` は `tensor` と同一オブジェクトであるため、行列積の結果が `tensor` に書き込まれることになります。\n",
    "\n",
    "行列積は、テンソル同士の積を計算する際に、1行目の値を計算して `y3` の1行目に書き込んだ後、その値がすぐに次の行列積の計算に使用されます。つまり、1行目を計算している間は `tensor` の元の値が使用されますが、1行目が書き込まれた後、その変更されたデータが2行目の計算に影響を与えるのです。\n",
    "\n",
    "このため、1行目は元の `tensor` を元にした結果になりますが、2行目は1行目がすでに書き込まれた変更後の `tensor` を元にして計算されるため、異なる結果になります。\n",
    "\n",
    "出力例：\n",
    "```\n",
    "y3: tensor([[2.0035, 1.1904],\n",
    "            [1.8609, 0.6792]])\n",
    "```\n",
    "\n",
    "### 結論\n",
    "`y3 = tensor` により `y3` と `tensor` が同一のオブジェクトになり、`torch.matmul(tensor, tensor.T, out=y3)` によって行列積の計算中に `tensor` が上書きされるため、1行目と2行目で異なる結果が得られました。このような挙動を避けるためには、`tensor` を直接 `out` に使用せず、別のテンソルに結果を保存するか、計算の過程で `tensor` の元のデータを保持するようにする必要があります。\n",
    "\n",
    "例えば、次のようにして `tensor` のコピーを使用することで、この問題を回避できます。\n",
    "\n",
    "```python\n",
    "y3 = tensor.clone()  # tensorのコピーを作成\n",
    "torch.matmul(tensor, tensor.T, out=y3)  # コピーに結果を格納\n",
    "```\n",
    "\n",
    "これで元の `tensor` は変更されず、正しい結果が得られるはずです。"
   ]
  },
  {
   "cell_type": "code",
   "execution_count": 45,
   "metadata": {},
   "outputs": [
    {
     "name": "stdout",
     "output_type": "stream",
     "text": [
      "tensor([[0.9856, 0.7288, 0.4409],\n",
      "        [0.4890, 0.3369, 0.0427]])\n"
     ]
    },
    {
     "data": {
      "text/plain": [
       "tensor([[0.9713, 0.5311, 0.1944],\n",
       "        [0.2391, 0.1135, 0.0018]])"
      ]
     },
     "execution_count": 45,
     "metadata": {},
     "output_type": "execute_result"
    }
   ],
   "source": [
    "tensor=torch.rand(2,3)\n",
    "print(tensor)\n",
    "# こちらは、要素ごとの積を求めます。 z1, z2, z3 は同じ値\n",
    "z1=tensor*tensor\n",
    "z2=tensor.mul(tensor)\n",
    "z3=torch.rand_like(tensor)\n",
    "torch.mul(tensor,tensor,out=z3)\n",
    "# 実際に print(z3) を実行していなくても、Jupyter Notebook 環境や特定のインタラクティブな実行環境では、\n",
    "# 最後に評価されたオブジェクト（ここでは z3）の値が自動的に表示されることがあります。"
   ]
  },
  {
   "cell_type": "code",
   "execution_count": 46,
   "metadata": {},
   "outputs": [
    {
     "name": "stdout",
     "output_type": "stream",
     "text": [
      "3.023775577545166 <class 'float'>\n"
     ]
    }
   ],
   "source": [
    "# 1要素のテンソル\n",
    "agg = tensor.sum()\n",
    "agg_item = agg.item()  \n",
    "print(agg_item, type(agg_item))"
   ]
  },
  {
   "cell_type": "code",
   "execution_count": 47,
   "metadata": {},
   "outputs": [],
   "source": [
    "# インプレース操作\n",
    "# 演算結果をオペランドに格納する演算をインプレースと呼びます\n",
    "# メソッドの最後、接尾辞として操作名に、 _ が付きます\n",
    "print(tensor, \"\\n\")\n",
    "tensor.add_(5)\n",
    "print(tensor)\n"
   ]
  },
  {
   "cell_type": "markdown",
   "metadata": {},
   "source": [
    "#### NumPyとの変換\n",
    "CPU上のテンソルとNumpy arraysは同じメモリを共有することができ、相互変換が容易"
   ]
  },
  {
   "cell_type": "markdown",
   "metadata": {},
   "source": [
    "#### Tensor to NumPy array"
   ]
  },
  {
   "cell_type": "code",
   "execution_count": 48,
   "metadata": {},
   "outputs": [
    {
     "name": "stdout",
     "output_type": "stream",
     "text": [
      "t: tensor([1., 1., 1., 1., 1.])\n",
      "n: [1. 1. 1. 1. 1.]\n",
      "t: tensor([2., 2., 2., 2., 2.])\n",
      "n: [2. 2. 2. 2. 2.]\n"
     ]
    }
   ],
   "source": [
    "t = torch.ones(5)\n",
    "print(f\"t: {t}\")\n",
    "n = t.numpy()\n",
    "print(f\"n: {n}\")\n",
    "# この際、テンソルが変化すると、Numpy側も変化します。\n",
    "t.add_(1)\n",
    "print(f\"t: {t}\")\n",
    "print(f\"n: {n}\")"
   ]
  },
  {
   "cell_type": "markdown",
   "metadata": {},
   "source": [
    "#### NumPy array to Tensor"
   ]
  },
  {
   "cell_type": "code",
   "execution_count": 49,
   "metadata": {},
   "outputs": [
    {
     "name": "stdout",
     "output_type": "stream",
     "text": [
      "t: tensor([2., 2., 2., 2., 2.], dtype=torch.float64)\n",
      "n: [2. 2. 2. 2. 2.]\n"
     ]
    }
   ],
   "source": [
    "n = np.ones(5)\n",
    "t = torch.from_numpy(n)\n",
    "# NumPy arrayの変化はテンソル側にも反映されます。\n",
    "np.add(n, 1, out=n)\n",
    "print(f\"t: {t}\")\n",
    "print(f\"n: {n}\")"
   ]
  },
  {
   "cell_type": "markdown",
   "metadata": {},
   "source": [
    "#### Datasetの読み込み\n",
    "TorchVisionからFashion-MNISTをロードする例\n",
    "[FashionMNIST Dataset](https://pytorch.org/docs/stable/torchvision/datasets.html#fashion-mnist)を読み込む際には、以下のパラメータを使用します。\n",
    "\n",
    "\n",
    "- ``root`` ：訓練/テストデータが格納されているパスを指定\n",
    "- ``train`` ：訓練データまたはテストデータセットを指定\n",
    "- ``download=True``：``root`` にデータが存在しない場合は、インターネットからデータをダウンロードを指定\n",
    "- ``transform`` と ``target_transform``：特徴量とラベルの変換を指定"
   ]
  },
  {
   "cell_type": "code",
   "execution_count": 50,
   "metadata": {},
   "outputs": [
    {
     "name": "stdout",
     "output_type": "stream",
     "text": [
      "Downloading http://fashion-mnist.s3-website.eu-central-1.amazonaws.com/train-images-idx3-ubyte.gz\n",
      "Downloading http://fashion-mnist.s3-website.eu-central-1.amazonaws.com/train-images-idx3-ubyte.gz to data/FashionMNIST/raw/train-images-idx3-ubyte.gz\n"
     ]
    },
    {
     "name": "stderr",
     "output_type": "stream",
     "text": [
      "100%|██████████| 26421880/26421880 [00:05<00:00, 5189573.06it/s] \n"
     ]
    },
    {
     "name": "stdout",
     "output_type": "stream",
     "text": [
      "Extracting data/FashionMNIST/raw/train-images-idx3-ubyte.gz to data/FashionMNIST/raw\n",
      "\n",
      "Downloading http://fashion-mnist.s3-website.eu-central-1.amazonaws.com/train-labels-idx1-ubyte.gz\n",
      "Downloading http://fashion-mnist.s3-website.eu-central-1.amazonaws.com/train-labels-idx1-ubyte.gz to data/FashionMNIST/raw/train-labels-idx1-ubyte.gz\n"
     ]
    },
    {
     "name": "stderr",
     "output_type": "stream",
     "text": [
      "100%|██████████| 29515/29515 [00:00<00:00, 112604.99it/s]\n"
     ]
    },
    {
     "name": "stdout",
     "output_type": "stream",
     "text": [
      "Extracting data/FashionMNIST/raw/train-labels-idx1-ubyte.gz to data/FashionMNIST/raw\n",
      "\n",
      "Downloading http://fashion-mnist.s3-website.eu-central-1.amazonaws.com/t10k-images-idx3-ubyte.gz\n",
      "Downloading http://fashion-mnist.s3-website.eu-central-1.amazonaws.com/t10k-images-idx3-ubyte.gz to data/FashionMNIST/raw/t10k-images-idx3-ubyte.gz\n"
     ]
    },
    {
     "name": "stderr",
     "output_type": "stream",
     "text": [
      "100%|██████████| 4422102/4422102 [00:02<00:00, 2040066.97it/s]\n"
     ]
    },
    {
     "name": "stdout",
     "output_type": "stream",
     "text": [
      "Extracting data/FashionMNIST/raw/t10k-images-idx3-ubyte.gz to data/FashionMNIST/raw\n",
      "\n",
      "Downloading http://fashion-mnist.s3-website.eu-central-1.amazonaws.com/t10k-labels-idx1-ubyte.gz\n",
      "Downloading http://fashion-mnist.s3-website.eu-central-1.amazonaws.com/t10k-labels-idx1-ubyte.gz to data/FashionMNIST/raw/t10k-labels-idx1-ubyte.gz\n"
     ]
    },
    {
     "name": "stderr",
     "output_type": "stream",
     "text": [
      "100%|██████████| 5148/5148 [00:00<00:00, 10108743.91it/s]"
     ]
    },
    {
     "name": "stdout",
     "output_type": "stream",
     "text": [
      "Extracting data/FashionMNIST/raw/t10k-labels-idx1-ubyte.gz to data/FashionMNIST/raw\n",
      "\n"
     ]
    },
    {
     "name": "stderr",
     "output_type": "stream",
     "text": [
      "\n"
     ]
    }
   ],
   "source": [
    "from torch.utils.data import Dataset\n",
    "from torchvision import datasets\n",
    "from torchvision.transforms import ToTensor, Lambda\n",
    "import matplotlib.pyplot as plt\n",
    "training_data = datasets.FashionMNIST(\n",
    "    root=\"data\",\n",
    "    train=True,\n",
    "    download=True,\n",
    "    transform=ToTensor()\n",
    ")\n",
    "test_data = datasets.FashionMNIST(\n",
    "    root=\"data\",\n",
    "    train=False,\n",
    "    download=True,\n",
    "    transform=ToTensor()\n",
    ")"
   ]
  },
  {
   "cell_type": "markdown",
   "metadata": {},
   "source": [
    "データセットの反復処理と可視化\n",
    "-----------------\n",
    "\n",
    "Datasetの特定indexを指定する際には、リスト操作と同様に、``training_data[index]``と記載します。\n",
    "\n",
    "``matplotlib``を使用し、訓練データのいくつかのサンプルを可視化しましょう。\n",
    "\n"
   ]
  },
  {
   "cell_type": "code",
   "execution_count": 54,
   "metadata": {},
   "outputs": [
    {
     "name": "stdout",
     "output_type": "stream",
     "text": [
      "<class 'dict'>\n"
     ]
    },
    {
     "data": {
      "image/png": "[encoded data removed]",
      "text/plain": [
       "<Figure size 400x400 with 9 Axes>"
      ]
     },
     "metadata": {},
     "output_type": "display_data"
    }
   ],
   "source": [
    "labels_map = {\n",
    "    0: \"T-Shirt\",\n",
    "    1: \"Trouser\",\n",
    "    2: \"Pullover\",\n",
    "    3: \"Dress\",\n",
    "    4: \"Coat\",\n",
    "    5: \"Sandal\",\n",
    "    6: \"Shirt\",\n",
    "    7: \"Sneaker\",\n",
    "    8: \"Bag\",\n",
    "    9: \"Ankle Boot\",\n",
    "}\n",
    "print(type(labels_map))\n",
    "figure = plt.figure(figsize=(4, 4))\n",
    "cols, rows = 3,3\n",
    "for i in range(1, cols * rows +1):\n",
    "    sample_idx = torch.randint(len(training_data), size=(1,)).item() \n",
    "    #torch.randint(len(training_data), size=(1,)) は、training_data の長さ（len(training_data)）の範囲内で、1つのランダムな整数を生成します。\n",
    "    # size=(1,) は1要素を持つ1次元のテンソルを生成することを意味します。つまり、生成されるのは1つのランダムなインデックスが格納されたテンソルです。例えば、tensor([42]) のような形式です。\n",
    "    # .item() は、このテンソルから単一の整数値を取り出すために使用します。つまり、tensor([42]) のようなテンソルから 42 というスカラ値を取得します。\n",
    "    img, label = training_data[sample_idx]\n",
    "    # figure に rows × cols のサブプロットを追加します。i はサブプロットの位置を指定しています。\n",
    "    figure.add_subplot(rows, cols, i)\n",
    "    # サブプロットのタイトルとして、label に対応する人間が理解できるラベルを labels_map から取得して表示します。\n",
    "    plt.title(labels_map[label])\n",
    "    # 軸（x軸やy軸の目盛りなど）を表示しないようにします。\n",
    "    plt.axis(\"off\")\n",
    "    # 画像 img を表示します。\n",
    "    # img.squeeze() によって、画像テンソルのサイズから不要な次元（通常はチャネル数などが1次元の場合）が削除されます。例えば、(1, 28, 28) というテンソルは (28, 28) になります。\n",
    "    # cmap=\"gray\" は、画像をグレースケールで表示するための設定です。\n",
    "    plt.imshow(img.squeeze(), cmap=\"gray\")\n",
    "plt.show()"
   ]
  },
  {
   "cell_type": "markdown",
   "metadata": {},
   "source": [
    "カスタムデータセットの作成\n",
    "---------------------------------------------------\n",
    "\n",
    "自分でカスタムしたDatasetクラスを作る際には、 `__init__`、`__len__`、`__getitem__`の3つの関数は必ず実装する必要があります。\n",
    "\n",
    "これらの関数の実装を確認します。\n",
    "\n",
    "FashionMNISTの画像データを``img_dir``フォルダに、ラベルはCSVファイル``annotations_file``として保存します。\n",
    "\n",
    "これから、各関数がどのような操作を行っているのか詳細に確認します。\n",
    "\n"
   ]
  },
  {
   "cell_type": "code",
   "execution_count": null,
   "metadata": {},
   "outputs": [],
   "source": []
  },
  {
   "cell_type": "code",
   "execution_count": null,
   "metadata": {},
   "outputs": [],
   "source": []
  }
 ],
 "metadata": {
  "kernelspec": {
   "display_name": "base",
   "language": "python",
   "name": "python3"
  },
  "language_info": {
   "codemirror_mode": {
    "name": "ipython",
    "version": 3
   },
   "file_extension": ".py",
   "mimetype": "text/x-python",
   "name": "python",
   "nbconvert_exporter": "python",
   "pygments_lexer": "ipython3",
   "version": "3.11.7"
  }
 },
 "nbformat": 4,
 "nbformat_minor": 2
}
